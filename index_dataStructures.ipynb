{
 "cells": [
  {
   "cell_type": "markdown",
   "id": "fb30d3ef",
   "metadata": {},
   "source": [
    "\n",
    "# -indexing\n",
    "\n",
    "## stdent name : khaleel ur rehman"
   ]
  },
  {
   "cell_type": "code",
   "execution_count": 2,
   "id": "39bcd56a",
   "metadata": {},
   "outputs": [
    {
     "data": {
      "text/plain": [
       "'samosa pakora'"
      ]
     },
     "execution_count": 2,
     "metadata": {},
     "output_type": "execute_result"
    }
   ],
   "source": [
    "# make a string\n",
    "\n",
    "a = \"samosa pakora\"\n",
    "a"
   ]
  },
  {
   "cell_type": "code",
   "execution_count": 6,
   "id": "0bd15043",
   "metadata": {},
   "outputs": [
    {
     "data": {
      "text/plain": [
       "13"
      ]
     },
     "execution_count": 6,
     "metadata": {},
     "output_type": "execute_result"
    }
   ],
   "source": [
    "# length of indices \n",
    "len(a)"
   ]
  },
  {
   "cell_type": "code",
   "execution_count": 4,
   "id": "bf97f8d5",
   "metadata": {},
   "outputs": [
    {
     "data": {
      "text/plain": [
       "'a'"
      ]
     },
     "execution_count": 4,
     "metadata": {},
     "output_type": "execute_result"
    }
   ],
   "source": [
    "a[0]\n",
    "a[1]"
   ]
  },
  {
   "cell_type": "code",
   "execution_count": 5,
   "id": "a008f6bf",
   "metadata": {},
   "outputs": [
    {
     "data": {
      "text/plain": [
       "'o'"
      ]
     },
     "execution_count": 5,
     "metadata": {},
     "output_type": "execute_result"
    }
   ],
   "source": [
    "a[3]"
   ]
  },
  {
   "cell_type": "code",
   "execution_count": 7,
   "id": "54ffc8d8",
   "metadata": {},
   "outputs": [
    {
     "data": {
      "text/plain": [
       "'a'"
      ]
     },
     "execution_count": 7,
     "metadata": {},
     "output_type": "execute_result"
    }
   ],
   "source": [
    "a[12]"
   ]
  },
  {
   "cell_type": "code",
   "execution_count": 10,
   "id": "9834c420",
   "metadata": {},
   "outputs": [
    {
     "data": {
      "text/plain": [
       "'samos'"
      ]
     },
     "execution_count": 10,
     "metadata": {},
     "output_type": "execute_result"
    }
   ],
   "source": [
    "a[0:5]"
   ]
  },
  {
   "cell_type": "code",
   "execution_count": 11,
   "id": "940e52ee",
   "metadata": {},
   "outputs": [
    {
     "data": {
      "text/plain": [
       "'samosa'"
      ]
     },
     "execution_count": 11,
     "metadata": {},
     "output_type": "execute_result"
    }
   ],
   "source": [
    "# last index is exclusive\n",
    "a[0:6]"
   ]
  },
  {
   "cell_type": "code",
   "execution_count": 12,
   "id": "6567f135",
   "metadata": {},
   "outputs": [
    {
     "data": {
      "text/plain": [
       "'samosa pakora'"
      ]
     },
     "execution_count": 12,
     "metadata": {},
     "output_type": "execute_result"
    }
   ],
   "source": [
    "a[0:13]"
   ]
  },
  {
   "cell_type": "code",
   "execution_count": 13,
   "id": "e81bbb8e",
   "metadata": {},
   "outputs": [
    {
     "data": {
      "text/plain": [
       "'p'"
      ]
     },
     "execution_count": 13,
     "metadata": {},
     "output_type": "execute_result"
    }
   ],
   "source": [
    "a[-6]"
   ]
  },
  {
   "cell_type": "code",
   "execution_count": 14,
   "id": "a67f1d13",
   "metadata": {},
   "outputs": [
    {
     "data": {
      "text/plain": [
       "''"
      ]
     },
     "execution_count": 14,
     "metadata": {},
     "output_type": "execute_result"
    }
   ],
   "source": [
    "a[-1:-6]"
   ]
  },
  {
   "cell_type": "code",
   "execution_count": 15,
   "id": "ef3731be",
   "metadata": {},
   "outputs": [
    {
     "data": {
      "text/plain": [
       "'pakor'"
      ]
     },
     "execution_count": 15,
     "metadata": {},
     "output_type": "execute_result"
    }
   ],
   "source": [
    "a[-6:-1]"
   ]
  },
  {
   "cell_type": "code",
   "execution_count": 16,
   "id": "955ff2ea",
   "metadata": {},
   "outputs": [
    {
     "data": {
      "text/plain": [
       "'pakora'"
      ]
     },
     "execution_count": 16,
     "metadata": {},
     "output_type": "execute_result"
    }
   ],
   "source": [
    "a[-6:13]"
   ]
  },
  {
   "cell_type": "code",
   "execution_count": 21,
   "id": "58857ba2",
   "metadata": {},
   "outputs": [
    {
     "data": {
      "text/plain": [
       "'biryani'"
      ]
     },
     "execution_count": 21,
     "metadata": {},
     "output_type": "execute_result"
    }
   ],
   "source": [
    "food = \"biryani\"\n",
    "food"
   ]
  },
  {
   "cell_type": "markdown",
   "id": "371371c7",
   "metadata": {},
   "source": [
    "## String methods"
   ]
  },
  {
   "cell_type": "code",
   "execution_count": 22,
   "id": "b0c04d91",
   "metadata": {},
   "outputs": [
    {
     "data": {
      "text/plain": [
       "'biryani'"
      ]
     },
     "execution_count": 22,
     "metadata": {},
     "output_type": "execute_result"
    }
   ],
   "source": [
    "food"
   ]
  },
  {
   "cell_type": "code",
   "execution_count": 23,
   "id": "f8eec8cc",
   "metadata": {},
   "outputs": [
    {
     "data": {
      "text/plain": [
       "7"
      ]
     },
     "execution_count": 23,
     "metadata": {},
     "output_type": "execute_result"
    }
   ],
   "source": [
    "len(food)"
   ]
  },
  {
   "cell_type": "code",
   "execution_count": 24,
   "id": "c91bb740",
   "metadata": {},
   "outputs": [
    {
     "data": {
      "text/plain": [
       "'Biryani'"
      ]
     },
     "execution_count": 24,
     "metadata": {},
     "output_type": "execute_result"
    }
   ],
   "source": [
    "# capitalized every letter\n",
    "food.capitalize()"
   ]
  },
  {
   "cell_type": "code",
   "execution_count": 25,
   "id": "bce364b1",
   "metadata": {},
   "outputs": [
    {
     "data": {
      "text/plain": [
       "'BIRYANI'"
      ]
     },
     "execution_count": 25,
     "metadata": {},
     "output_type": "execute_result"
    }
   ],
   "source": [
    "# upper case\n",
    "food.upper()"
   ]
  },
  {
   "cell_type": "code",
   "execution_count": 26,
   "id": "db104ade",
   "metadata": {},
   "outputs": [
    {
     "data": {
      "text/plain": [
       "'biryani'"
      ]
     },
     "execution_count": 26,
     "metadata": {},
     "output_type": "execute_result"
    }
   ],
   "source": [
    "# lower case\n",
    "food.lower()"
   ]
  },
  {
   "cell_type": "code",
   "execution_count": 27,
   "id": "4134f6ad",
   "metadata": {},
   "outputs": [
    {
     "data": {
      "text/plain": [
       "'shiryani'"
      ]
     },
     "execution_count": 27,
     "metadata": {},
     "output_type": "execute_result"
    }
   ],
   "source": [
    "# replace\n",
    "food.replace(\"b\",\"sh\")"
   ]
  },
  {
   "cell_type": "code",
   "execution_count": 28,
   "id": "2948a06f",
   "metadata": {},
   "outputs": [
    {
     "data": {
      "text/plain": [
       "' baba ammar with dr ammar tufail'"
      ]
     },
     "execution_count": 28,
     "metadata": {},
     "output_type": "execute_result"
    }
   ],
   "source": [
    "# couting a specific alphbate in a string\n",
    "name = \" baba ammar with dr ammar tufail\"\n",
    "name"
   ]
  },
  {
   "cell_type": "code",
   "execution_count": 29,
   "id": "2276bc2b",
   "metadata": {},
   "outputs": [
    {
     "data": {
      "text/plain": [
       "7"
      ]
     },
     "execution_count": 29,
     "metadata": {},
     "output_type": "execute_result"
    }
   ],
   "source": [
    "name.count(\"a\")"
   ]
  },
  {
   "cell_type": "code",
   "execution_count": 139,
   "id": "32e52d7b",
   "metadata": {},
   "outputs": [
    {
     "data": {
      "text/plain": [
       "1"
      ]
     },
     "execution_count": 139,
     "metadata": {},
     "output_type": "execute_result"
    }
   ],
   "source": [
    "name.find(\"baba\")"
   ]
  },
  {
   "cell_type": "code",
   "execution_count": 146,
   "id": "3f3af845",
   "metadata": {},
   "outputs": [
    {
     "data": {
      "text/plain": [
       "'    '"
      ]
     },
     "execution_count": 146,
     "metadata": {},
     "output_type": "execute_result"
    }
   ],
   "source": [
    "st = \"\"\n",
    "st.center(4) # four spaces in center"
   ]
  },
  {
   "cell_type": "code",
   "execution_count": 149,
   "id": "381cecd9",
   "metadata": {},
   "outputs": [
    {
     "data": {
      "text/plain": [
       "':'"
      ]
     },
     "execution_count": 149,
     "metadata": {},
     "output_type": "execute_result"
    }
   ],
   "source": [
    "name.join(\":\")"
   ]
  },
  {
   "cell_type": "code",
   "execution_count": 152,
   "id": "1c764cbd",
   "metadata": {},
   "outputs": [
    {
     "data": {
      "text/plain": [
       "True"
      ]
     },
     "execution_count": 152,
     "metadata": {},
     "output_type": "execute_result"
    }
   ],
   "source": [
    "name.endswith(\"l\")"
   ]
  },
  {
   "cell_type": "code",
   "execution_count": 155,
   "id": "4a540ce9",
   "metadata": {},
   "outputs": [
    {
     "data": {
      "text/plain": [
       "' baba ammar with dr ammar tufail'"
      ]
     },
     "execution_count": 155,
     "metadata": {},
     "output_type": "execute_result"
    }
   ],
   "source": [
    "name.casefold()"
   ]
  },
  {
   "cell_type": "code",
   "execution_count": 156,
   "id": "eda543cf",
   "metadata": {
    "scrolled": true
   },
   "outputs": [
    {
     "data": {
      "text/plain": [
       "' baba ammar with dr ammar tufail'"
      ]
     },
     "execution_count": 156,
     "metadata": {},
     "output_type": "execute_result"
    }
   ],
   "source": [
    "name.expandtabs()"
   ]
  },
  {
   "cell_type": "code",
   "execution_count": 157,
   "id": "8e997a62",
   "metadata": {},
   "outputs": [
    {
     "data": {
      "text/plain": [
       "' baba ammar with dr ammar tufail'"
      ]
     },
     "execution_count": 157,
     "metadata": {},
     "output_type": "execute_result"
    }
   ],
   "source": [
    "name.format()"
   ]
  },
  {
   "cell_type": "markdown",
   "id": "8f11f073",
   "metadata": {},
   "source": [
    "## finding an index number in string"
   ]
  },
  {
   "cell_type": "code",
   "execution_count": 30,
   "id": "b65b1db9",
   "metadata": {},
   "outputs": [
    {
     "data": {
      "text/plain": [
       "' baba ammar with dr ammar tufail'"
      ]
     },
     "execution_count": 30,
     "metadata": {},
     "output_type": "execute_result"
    }
   ],
   "source": [
    "name = \" baba ammar with dr ammar tufail\"\n",
    "name"
   ]
  },
  {
   "cell_type": "code",
   "execution_count": 32,
   "id": "13af3ecd",
   "metadata": {},
   "outputs": [
    {
     "data": {
      "text/plain": [
       "7"
      ]
     },
     "execution_count": 32,
     "metadata": {},
     "output_type": "execute_result"
    }
   ],
   "source": [
    "name.find(\"mm\")"
   ]
  },
  {
   "cell_type": "markdown",
   "id": "fc3d55af",
   "metadata": {},
   "source": [
    "### how to split a string"
   ]
  },
  {
   "cell_type": "code",
   "execution_count": 33,
   "id": "e9c2971f",
   "metadata": {},
   "outputs": [
    {
     "data": {
      "text/plain": [
       "['i love shwarma', ' biryani ', ' karahi', ' mutton']"
      ]
     },
     "execution_count": 33,
     "metadata": {},
     "output_type": "execute_result"
    }
   ],
   "source": [
    "food = \"i love shwarma, biryani , karahi, mutton\"\n",
    "food.split(\",\")"
   ]
  },
  {
   "cell_type": "markdown",
   "id": "5334af75",
   "metadata": {},
   "source": [
    "## Basic Data structures in python\n",
    "\n",
    "1-Tuple\n",
    "\n",
    "2-list\n",
    "\n",
    "3- Dictionaries \n",
    "\n",
    "4- Set"
   ]
  },
  {
   "cell_type": "markdown",
   "id": "07acc696",
   "metadata": {},
   "source": [
    "## Tuple"
   ]
  },
  {
   "cell_type": "markdown",
   "id": "9c464524",
   "metadata": {},
   "source": [
    "#### -ordered collection of elements \n",
    "\n",
    "#### -enclosed in ()\n",
    "\n",
    "#### -different kind of elements can be stored\n",
    "\n",
    "#### -once element stored you cannot change them (unmuteable)"
   ]
  },
  {
   "cell_type": "code",
   "execution_count": 38,
   "id": "45493e77",
   "metadata": {},
   "outputs": [],
   "source": [
    "tup1 = (1, \"python\", True, 2.5)\n"
   ]
  },
  {
   "cell_type": "code",
   "execution_count": 39,
   "id": "543c2b58",
   "metadata": {},
   "outputs": [
    {
     "name": "stdout",
     "output_type": "stream",
     "text": [
      "<class 'tuple'>\n"
     ]
    }
   ],
   "source": [
    "# type of tuple\n",
    "print(type(tup1))"
   ]
  },
  {
   "cell_type": "markdown",
   "id": "bae8e809",
   "metadata": {},
   "source": [
    "### indexing in tuple"
   ]
  },
  {
   "cell_type": "code",
   "execution_count": 40,
   "id": "2c5567a8",
   "metadata": {},
   "outputs": [
    {
     "data": {
      "text/plain": [
       "'python'"
      ]
     },
     "execution_count": 40,
     "metadata": {},
     "output_type": "execute_result"
    }
   ],
   "source": [
    "tup1[1]"
   ]
  },
  {
   "cell_type": "code",
   "execution_count": 41,
   "id": "ed5ff776",
   "metadata": {},
   "outputs": [
    {
     "data": {
      "text/plain": [
       "1"
      ]
     },
     "execution_count": 41,
     "metadata": {},
     "output_type": "execute_result"
    }
   ],
   "source": [
    "tup1[0]"
   ]
  },
  {
   "cell_type": "code",
   "execution_count": 42,
   "id": "bca7812a",
   "metadata": {},
   "outputs": [
    {
     "data": {
      "text/plain": [
       "True"
      ]
     },
     "execution_count": 42,
     "metadata": {},
     "output_type": "execute_result"
    }
   ],
   "source": [
    "tup1[2]"
   ]
  },
  {
   "cell_type": "code",
   "execution_count": 43,
   "id": "e4b82513",
   "metadata": {},
   "outputs": [
    {
     "data": {
      "text/plain": [
       "(1, 'python', True, 2.5)"
      ]
     },
     "execution_count": 43,
     "metadata": {},
     "output_type": "execute_result"
    }
   ],
   "source": [
    "tup1[0:5]"
   ]
  },
  {
   "cell_type": "code",
   "execution_count": 44,
   "id": "c6c011ae",
   "metadata": {},
   "outputs": [
    {
     "data": {
      "text/plain": [
       "(1, 'python', True)"
      ]
     },
     "execution_count": 44,
     "metadata": {},
     "output_type": "execute_result"
    }
   ],
   "source": [
    "# last element is exclusive\n",
    "tup1[0:3]"
   ]
  },
  {
   "cell_type": "code",
   "execution_count": 45,
   "id": "493fa236",
   "metadata": {},
   "outputs": [
    {
     "data": {
      "text/plain": [
       "4"
      ]
     },
     "execution_count": 45,
     "metadata": {},
     "output_type": "execute_result"
    }
   ],
   "source": [
    "# count of elements in tuple\n",
    "len(tup1)"
   ]
  },
  {
   "cell_type": "code",
   "execution_count": 46,
   "id": "6feee069",
   "metadata": {},
   "outputs": [],
   "source": [
    "tup2 = (2, \"baba_ammar\", 3.5, False)"
   ]
  },
  {
   "cell_type": "code",
   "execution_count": 47,
   "id": "fec13d15",
   "metadata": {},
   "outputs": [
    {
     "data": {
      "text/plain": [
       "(1, 'python', True, 2.5, 2, 'baba_ammar', 3.5, False)"
      ]
     },
     "execution_count": 47,
     "metadata": {},
     "output_type": "execute_result"
    }
   ],
   "source": [
    "# concatinate two tuples or more than two tuples\n",
    "tup1 + tup2"
   ]
  },
  {
   "cell_type": "code",
   "execution_count": 48,
   "id": "73c2de68",
   "metadata": {},
   "outputs": [
    {
     "data": {
      "text/plain": [
       "(1, 'python', True, 2.5, 1, 'python', True, 2.5, 2, 'baba_ammar', 3.5, False)"
      ]
     },
     "execution_count": 48,
     "metadata": {},
     "output_type": "execute_result"
    }
   ],
   "source": [
    "# repeate and addintion in tuples\n",
    "tup1*2 + tup2"
   ]
  },
  {
   "cell_type": "code",
   "execution_count": 49,
   "id": "c099307d",
   "metadata": {},
   "outputs": [
    {
     "data": {
      "text/plain": [
       "20"
      ]
     },
     "execution_count": 49,
     "metadata": {},
     "output_type": "execute_result"
    }
   ],
   "source": [
    "tup3 = (20,30,40,60,90)\n",
    "min(tup3)"
   ]
  },
  {
   "cell_type": "code",
   "execution_count": 50,
   "id": "510717d5",
   "metadata": {},
   "outputs": [
    {
     "data": {
      "text/plain": [
       "90"
      ]
     },
     "execution_count": 50,
     "metadata": {},
     "output_type": "execute_result"
    }
   ],
   "source": [
    "max(tup3)"
   ]
  },
  {
   "cell_type": "code",
   "execution_count": 51,
   "id": "fdeb8c45",
   "metadata": {
    "collapsed": true
   },
   "outputs": [
    {
     "data": {
      "text/plain": [
       "(20, 30, 40, 60, 90, 20, 30, 40, 60, 90)"
      ]
     },
     "execution_count": 51,
     "metadata": {},
     "output_type": "execute_result"
    }
   ],
   "source": [
    "tup3*2"
   ]
  },
  {
   "cell_type": "markdown",
   "id": "fbabc8c7",
   "metadata": {},
   "source": [
    "### All the functions of Tuple"
   ]
  },
  {
   "cell_type": "code",
   "execution_count": 141,
   "id": "7c3f41e9",
   "metadata": {},
   "outputs": [
    {
     "data": {
      "text/plain": [
       "1"
      ]
     },
     "execution_count": 141,
     "metadata": {},
     "output_type": "execute_result"
    }
   ],
   "source": [
    "tup3.count(20) # count the number of given element "
   ]
  },
  {
   "cell_type": "code",
   "execution_count": 140,
   "id": "ae1f93f2",
   "metadata": {},
   "outputs": [
    {
     "data": {
      "text/plain": [
       "1"
      ]
     },
     "execution_count": 140,
     "metadata": {},
     "output_type": "execute_result"
    }
   ],
   "source": [
    "tup5 = (12,\"khalil\", \"baba_ammar\", False, True, 3.5) # tells the index of given element\n",
    "tup5.index(\"khalil\")"
   ]
  },
  {
   "cell_type": "markdown",
   "id": "67274a55",
   "metadata": {},
   "source": [
    "---"
   ]
  },
  {
   "cell_type": "markdown",
   "id": "4220904d",
   "metadata": {},
   "source": [
    "## 2- list"
   ]
  },
  {
   "cell_type": "markdown",
   "id": "bf1f9d5b",
   "metadata": {},
   "source": [
    "### -ordered collection of elements\n",
    "### -enclosed in [] square brackets/braces"
   ]
  },
  {
   "cell_type": "code",
   "execution_count": 54,
   "id": "47f14f10",
   "metadata": {},
   "outputs": [
    {
     "data": {
      "text/plain": [
       "[2, 'babaAmmar', False]"
      ]
     },
     "execution_count": 54,
     "metadata": {},
     "output_type": "execute_result"
    }
   ],
   "source": [
    "lis1= [2, \"babaAmmar\", False]\n",
    "lis1"
   ]
  },
  {
   "cell_type": "code",
   "execution_count": 55,
   "id": "cbb93c69",
   "metadata": {},
   "outputs": [
    {
     "data": {
      "text/plain": [
       "list"
      ]
     },
     "execution_count": 55,
     "metadata": {},
     "output_type": "execute_result"
    }
   ],
   "source": [
    "type(lis1)"
   ]
  },
  {
   "cell_type": "code",
   "execution_count": 56,
   "id": "b6322f8b",
   "metadata": {},
   "outputs": [
    {
     "data": {
      "text/plain": [
       "3"
      ]
     },
     "execution_count": 56,
     "metadata": {},
     "output_type": "execute_result"
    }
   ],
   "source": [
    "len(lis1)"
   ]
  },
  {
   "cell_type": "code",
   "execution_count": 57,
   "id": "5d7608fb",
   "metadata": {},
   "outputs": [
    {
     "data": {
      "text/plain": [
       "False"
      ]
     },
     "execution_count": 57,
     "metadata": {},
     "output_type": "execute_result"
    }
   ],
   "source": [
    "lis1[2]"
   ]
  },
  {
   "cell_type": "code",
   "execution_count": 58,
   "id": "7a25a62d",
   "metadata": {},
   "outputs": [
    {
     "data": {
      "text/plain": [
       "[3, 5, 'aamar', 'codanics', 478, 58.2, False]"
      ]
     },
     "execution_count": 58,
     "metadata": {},
     "output_type": "execute_result"
    }
   ],
   "source": [
    "list2 = [3,5,\"aamar\",\"codanics\",478, 58.2, False]\n",
    "list2"
   ]
  },
  {
   "cell_type": "code",
   "execution_count": 59,
   "id": "157a44f3",
   "metadata": {},
   "outputs": [
    {
     "data": {
      "text/plain": [
       "[2, 'babaAmmar', False, 3, 5, 'aamar', 'codanics', 478, 58.2, False]"
      ]
     },
     "execution_count": 59,
     "metadata": {},
     "output_type": "execute_result"
    }
   ],
   "source": [
    "lis1 + list2"
   ]
  },
  {
   "cell_type": "code",
   "execution_count": 62,
   "id": "02f3773b",
   "metadata": {},
   "outputs": [
    {
     "data": {
      "text/plain": [
       "[2, 'babaAmmar', False, 2, 'babaAmmar', False]"
      ]
     },
     "execution_count": 62,
     "metadata": {},
     "output_type": "execute_result"
    }
   ],
   "source": [
    "lis1*2"
   ]
  },
  {
   "cell_type": "code",
   "execution_count": 63,
   "id": "46358569",
   "metadata": {},
   "outputs": [
    {
     "data": {
      "text/plain": [
       "[False, 'babaAmmar', 2]"
      ]
     },
     "execution_count": 63,
     "metadata": {},
     "output_type": "execute_result"
    }
   ],
   "source": [
    "lis1.reverse()\n",
    "lis1"
   ]
  },
  {
   "cell_type": "code",
   "execution_count": 64,
   "id": "e951015c",
   "metadata": {},
   "outputs": [
    {
     "data": {
      "text/plain": [
       "[False, 'babaAmmar', 2, 'codanics youtube channel']"
      ]
     },
     "execution_count": 64,
     "metadata": {},
     "output_type": "execute_result"
    }
   ],
   "source": [
    "lis1.append(\"codanics youtube channel\")\n",
    "lis1"
   ]
  },
  {
   "cell_type": "code",
   "execution_count": 67,
   "id": "64902dd2",
   "metadata": {},
   "outputs": [
    {
     "data": {
      "text/plain": [
       "1"
      ]
     },
     "execution_count": 67,
     "metadata": {},
     "output_type": "execute_result"
    }
   ],
   "source": [
    "lis1.count(2)"
   ]
  },
  {
   "cell_type": "code",
   "execution_count": 69,
   "id": "d8d0b279",
   "metadata": {},
   "outputs": [
    {
     "data": {
      "text/plain": [
       "1"
      ]
     },
     "execution_count": 69,
     "metadata": {},
     "output_type": "execute_result"
    }
   ],
   "source": [
    "# list.count.function\n",
    "lis1.count(\"babaAmmar\")   # assignment completed, list count method takes an argument then it works"
   ]
  },
  {
   "cell_type": "code",
   "execution_count": 70,
   "id": "596af53c",
   "metadata": {},
   "outputs": [
    {
     "data": {
      "text/plain": [
       "[20, 30, 40, 50, 60, 80, 90, 12, 25, 78, 90, 87, 65, 45, 23]"
      ]
     },
     "execution_count": 70,
     "metadata": {},
     "output_type": "execute_result"
    }
   ],
   "source": [
    "list3 = [20,30,40,50,60,80,90,12,25,78,90,87,65,45,23]\n",
    "list3"
   ]
  },
  {
   "cell_type": "code",
   "execution_count": 71,
   "id": "fdaeec6e",
   "metadata": {},
   "outputs": [
    {
     "data": {
      "text/plain": [
       "15"
      ]
     },
     "execution_count": 71,
     "metadata": {},
     "output_type": "execute_result"
    }
   ],
   "source": [
    "len(list3)"
   ]
  },
  {
   "cell_type": "code",
   "execution_count": 72,
   "id": "2be2ed17",
   "metadata": {},
   "outputs": [
    {
     "data": {
      "text/plain": [
       "[12, 20, 23, 25, 30, 40, 45, 50, 60, 65, 78, 80, 87, 90, 90]"
      ]
     },
     "execution_count": 72,
     "metadata": {},
     "output_type": "execute_result"
    }
   ],
   "source": [
    "# sorting a list\n",
    "list3.sort()\n",
    "list3"
   ]
  },
  {
   "cell_type": "code",
   "execution_count": 73,
   "id": "4af7b794",
   "metadata": {},
   "outputs": [
    {
     "data": {
      "text/plain": [
       "[12,\n",
       " 20,\n",
       " 23,\n",
       " 25,\n",
       " 30,\n",
       " 40,\n",
       " 45,\n",
       " 50,\n",
       " 60,\n",
       " 65,\n",
       " 78,\n",
       " 80,\n",
       " 87,\n",
       " 90,\n",
       " 90,\n",
       " 12,\n",
       " 20,\n",
       " 23,\n",
       " 25,\n",
       " 30,\n",
       " 40,\n",
       " 45,\n",
       " 50,\n",
       " 60,\n",
       " 65,\n",
       " 78,\n",
       " 80,\n",
       " 87,\n",
       " 90,\n",
       " 90]"
      ]
     },
     "execution_count": 73,
     "metadata": {},
     "output_type": "execute_result"
    }
   ],
   "source": [
    "list3*2"
   ]
  },
  {
   "cell_type": "code",
   "execution_count": 74,
   "id": "016c8007",
   "metadata": {},
   "outputs": [
    {
     "data": {
      "text/plain": [
       "[False,\n",
       " 'babaAmmar',\n",
       " 2,\n",
       " 'codanics youtube channel',\n",
       " 3,\n",
       " 5,\n",
       " 'aamar',\n",
       " 'codanics',\n",
       " 478,\n",
       " 58.2,\n",
       " False]"
      ]
     },
     "execution_count": 74,
     "metadata": {},
     "output_type": "execute_result"
    }
   ],
   "source": [
    "# concatinate lilst\n",
    "lis1 + list2"
   ]
  },
  {
   "cell_type": "markdown",
   "id": "354c6360",
   "metadata": {},
   "source": [
    "## All the functions of Lists\n"
   ]
  },
  {
   "cell_type": "code",
   "execution_count": 121,
   "id": "c9461bbd",
   "metadata": {},
   "outputs": [
    {
     "data": {
      "text/plain": [
       "[2, 5, 12, 19]"
      ]
     },
     "execution_count": 121,
     "metadata": {},
     "output_type": "execute_result"
    }
   ],
   "source": [
    "list4 = [12,5,2,19]\n",
    "list4.sort()  # sort up the list elements\n",
    "list4"
   ]
  },
  {
   "cell_type": "code",
   "execution_count": 122,
   "id": "5e0528a1",
   "metadata": {},
   "outputs": [
    {
     "data": {
      "text/plain": [
       "2"
      ]
     },
     "execution_count": 122,
     "metadata": {},
     "output_type": "execute_result"
    }
   ],
   "source": [
    "list4.index(12) # TELLS INDEX OF ELEMENT"
   ]
  },
  {
   "cell_type": "code",
   "execution_count": 125,
   "id": "0a3e8c95",
   "metadata": {},
   "outputs": [
    {
     "data": {
      "text/plain": [
       "[2, 5, 12, 19, 'k', 'h', 'a', 'l', 'e', 'e', 'l']"
      ]
     },
     "execution_count": 125,
     "metadata": {},
     "output_type": "execute_result"
    }
   ],
   "source": [
    "list4.extend(\"khaleel\") # extends list\n",
    "list4"
   ]
  },
  {
   "cell_type": "code",
   "execution_count": 126,
   "id": "6f29f4a5",
   "metadata": {},
   "outputs": [
    {
     "data": {
      "text/plain": [
       "[2, 5, 19, 'k', 'h', 'a', 'l', 'e', 'e', 'l']"
      ]
     },
     "execution_count": 126,
     "metadata": {},
     "output_type": "execute_result"
    }
   ],
   "source": [
    "list4.pop(2) # delete element of index 2 wich is 12\n",
    "list4"
   ]
  },
  {
   "cell_type": "code",
   "execution_count": 128,
   "id": "8db8fd90",
   "metadata": {},
   "outputs": [
    {
     "data": {
      "text/plain": [
       "[2, 5, 19, 'k', 'h', 'a', 'l', 'e', 'e', 'l', 34]"
      ]
     },
     "execution_count": 128,
     "metadata": {},
     "output_type": "execute_result"
    }
   ],
   "source": [
    "list4.insert(19,34) # insert a element which we gave at the end of list\n",
    "list4"
   ]
  },
  {
   "cell_type": "markdown",
   "id": "7e85c781",
   "metadata": {},
   "source": [
    "## Dictonaries\n",
    "\n",
    "### - An unordered collections of elements\n",
    "### - key and value\n",
    "### - enclosed in curly brackets\n",
    "### - mutable ana changeable value"
   ]
  },
  {
   "cell_type": "code",
   "execution_count": 77,
   "id": "57b8137e",
   "metadata": {},
   "outputs": [
    {
     "data": {
      "text/plain": [
       "{'samosa': 30, 'pakora': 100, 'raita': 20, 'salad': 50, 'Chicken_rules': 30}"
      ]
     },
     "execution_count": 77,
     "metadata": {},
     "output_type": "execute_result"
    }
   ],
   "source": [
    "# food and their prices\n",
    "food1 = {\"samosa\":30, \"pakora\":100, \"raita\":20,\"salad\":50, \"Chicken_rules\":30}\n",
    "food1"
   ]
  },
  {
   "cell_type": "code",
   "execution_count": 78,
   "id": "4a3308d9",
   "metadata": {},
   "outputs": [
    {
     "data": {
      "text/plain": [
       "dict"
      ]
     },
     "execution_count": 78,
     "metadata": {},
     "output_type": "execute_result"
    }
   ],
   "source": [
    "type(food1)"
   ]
  },
  {
   "cell_type": "code",
   "execution_count": 79,
   "id": "1574eb3d",
   "metadata": {},
   "outputs": [
    {
     "data": {
      "text/plain": [
       "<function dict.keys>"
      ]
     },
     "execution_count": 79,
     "metadata": {},
     "output_type": "execute_result"
    }
   ],
   "source": [
    "# extract data\n",
    "food1.keys"
   ]
  },
  {
   "cell_type": "code",
   "execution_count": 80,
   "id": "2147f275",
   "metadata": {},
   "outputs": [
    {
     "data": {
      "text/plain": [
       "dict_keys(['samosa', 'pakora', 'raita', 'salad', 'Chicken_rules'])"
      ]
     },
     "execution_count": 80,
     "metadata": {},
     "output_type": "execute_result"
    }
   ],
   "source": [
    "keys = food1.keys()\n",
    "keys"
   ]
  },
  {
   "cell_type": "code",
   "execution_count": 82,
   "id": "be45d41b",
   "metadata": {},
   "outputs": [
    {
     "data": {
      "text/plain": [
       "dict_values([30, 100, 20, 50, 30])"
      ]
     },
     "execution_count": 82,
     "metadata": {},
     "output_type": "execute_result"
    }
   ],
   "source": [
    "values = food1.values()\n",
    "values"
   ]
  },
  {
   "cell_type": "code",
   "execution_count": 84,
   "id": "8522973b",
   "metadata": {},
   "outputs": [
    {
     "data": {
      "text/plain": [
       "{'samosa': 30,\n",
       " 'pakora': 100,\n",
       " 'raita': 20,\n",
       " 'salad': 50,\n",
       " 'Chicken_rules': 30,\n",
       " 'Tikki': 10}"
      ]
     },
     "execution_count": 84,
     "metadata": {},
     "output_type": "execute_result"
    }
   ],
   "source": [
    "food1[\"Tikki\"]=10\n",
    "food1"
   ]
  },
  {
   "cell_type": "code",
   "execution_count": 85,
   "id": "533f7a50",
   "metadata": {},
   "outputs": [
    {
     "data": {
      "text/plain": [
       "{'samosa': 30,\n",
       " 'pakora': 100,\n",
       " 'raita': 20,\n",
       " 'salad': 50,\n",
       " 'Chicken_rules': 30,\n",
       " 'Tikki': 15}"
      ]
     },
     "execution_count": 85,
     "metadata": {},
     "output_type": "execute_result"
    }
   ],
   "source": [
    "# update the values\n",
    "food1[\"Tikki\"]=15\n",
    "food1"
   ]
  },
  {
   "cell_type": "code",
   "execution_count": 88,
   "id": "fdc55ce5",
   "metadata": {},
   "outputs": [
    {
     "data": {
      "text/plain": [
       "{'Dates': 50, 'Choclates': 200, 'sawiyan': 1000}"
      ]
     },
     "execution_count": 88,
     "metadata": {},
     "output_type": "execute_result"
    }
   ],
   "source": [
    "food2 = {\"Dates\":50, \"Choclates\":200, \"sawiyan\":1000}\n",
    "food2"
   ]
  },
  {
   "cell_type": "code",
   "execution_count": 89,
   "id": "b7ce187d",
   "metadata": {},
   "outputs": [],
   "source": [
    "#concatinate \n",
    "food1.update(food2)"
   ]
  },
  {
   "cell_type": "code",
   "execution_count": 90,
   "id": "847cb1b9",
   "metadata": {},
   "outputs": [
    {
     "data": {
      "text/plain": [
       "{'samosa': 30,\n",
       " 'pakora': 100,\n",
       " 'raita': 20,\n",
       " 'salad': 50,\n",
       " 'Chicken_rules': 30,\n",
       " 'Tikki': 15,\n",
       " 'Dates': 50,\n",
       " 'Choclates': 200,\n",
       " 'sawiyan': 1000}"
      ]
     },
     "execution_count": 90,
     "metadata": {},
     "output_type": "execute_result"
    }
   ],
   "source": [
    "food1"
   ]
  },
  {
   "cell_type": "markdown",
   "id": "b5e6fe9b",
   "metadata": {},
   "source": [
    "## Sets\n",
    "#### - an unordered and un-indexed collections of objects\n",
    "#### - curly braces used {}\n",
    "#### - no duplication is allowed"
   ]
  },
  {
   "cell_type": "code",
   "execution_count": 94,
   "id": "4074650d",
   "metadata": {},
   "outputs": [
    {
     "data": {
      "text/plain": [
       "{1, 2, 3, 'Ammar', 'Ammar1', 'Faisalabad', 'codanics'}"
      ]
     },
     "execution_count": 94,
     "metadata": {},
     "output_type": "execute_result"
    }
   ],
   "source": [
    "s1 = {1,2,3, \"codanics\", \"Ammar\", \"Faisalabad\"}\n",
    "s1.add(\"Ammar\")\n",
    "s1.add(\"Ammar1\")\n",
    "s1"
   ]
  },
  {
   "cell_type": "code",
   "execution_count": 95,
   "id": "906fc831",
   "metadata": {},
   "outputs": [
    {
     "data": {
      "text/plain": [
       "{1, 2, 3, 'Ammar', 'Faisalabad', 'codanics'}"
      ]
     },
     "execution_count": 95,
     "metadata": {},
     "output_type": "execute_result"
    }
   ],
   "source": [
    "s1.remove(\"Ammar1\") # it remove selected elemnt from set\n",
    "s1"
   ]
  },
  {
   "cell_type": "markdown",
   "id": "7a6c25a2",
   "metadata": {},
   "source": [
    "## All the functions of Sets"
   ]
  },
  {
   "cell_type": "code",
   "execution_count": 96,
   "id": "e3abb27d",
   "metadata": {},
   "outputs": [],
   "source": [
    "s1.clear()"
   ]
  },
  {
   "cell_type": "code",
   "execution_count": 97,
   "id": "6fe7e856",
   "metadata": {},
   "outputs": [
    {
     "data": {
      "text/plain": [
       "set()"
      ]
     },
     "execution_count": 97,
     "metadata": {},
     "output_type": "execute_result"
    }
   ],
   "source": [
    "s1"
   ]
  },
  {
   "cell_type": "code",
   "execution_count": 101,
   "id": "dcdc6e63",
   "metadata": {},
   "outputs": [
    {
     "data": {
      "text/plain": [
       "{1, 2, 3, 'Ammar', 'Faisalabad', 'codanics'}"
      ]
     },
     "execution_count": 101,
     "metadata": {},
     "output_type": "execute_result"
    }
   ],
   "source": [
    "s1 = {1, 2, 3, 'Ammar', 'Faisalabad', 'codanics'}\n",
    "s1.copy()  # copy set 1\n",
    "s1"
   ]
  },
  {
   "cell_type": "code",
   "execution_count": 102,
   "id": "b1333aec",
   "metadata": {},
   "outputs": [
    {
     "data": {
      "text/plain": [
       "{1, 2, 23, 3, 4, 5, 6, 7, 'Ammar', 'Faisalabad', 'codanics'}"
      ]
     },
     "execution_count": 102,
     "metadata": {},
     "output_type": "execute_result"
    }
   ],
   "source": [
    "s2 = {23,4,5,6,7,2}\n",
    "s1.union(s2) # makes union of two sets s1 and s2 it means elements of both sets in one set combine"
   ]
  },
  {
   "cell_type": "code",
   "execution_count": 103,
   "id": "dc62b0be",
   "metadata": {},
   "outputs": [
    {
     "data": {
      "text/plain": [
       "set()"
      ]
     },
     "execution_count": 103,
     "metadata": {},
     "output_type": "execute_result"
    }
   ],
   "source": [
    "s1.intersection(s2)  # tells common elements of set s1 and set s2"
   ]
  },
  {
   "cell_type": "code",
   "execution_count": 104,
   "id": "8c027eff",
   "metadata": {},
   "outputs": [
    {
     "data": {
      "text/plain": [
       "{1, 2, 3, 'Ammar', 'Faisalabad', 'codanics'}"
      ]
     },
     "execution_count": 104,
     "metadata": {},
     "output_type": "execute_result"
    }
   ],
   "source": [
    "s1.difference(s2)  # tells difference between two set s1 and s2"
   ]
  },
  {
   "cell_type": "code",
   "execution_count": 105,
   "id": "23e67aa6",
   "metadata": {},
   "outputs": [],
   "source": [
    "s1.difference_update(s2)"
   ]
  },
  {
   "cell_type": "code",
   "execution_count": 106,
   "id": "180c5ee9",
   "metadata": {},
   "outputs": [
    {
     "data": {
      "text/plain": [
       "{1, 2, 3, 'Ammar', 'Faisalabad', 'codanics'}"
      ]
     },
     "execution_count": 106,
     "metadata": {},
     "output_type": "execute_result"
    }
   ],
   "source": [
    "s1"
   ]
  },
  {
   "cell_type": "code",
   "execution_count": 108,
   "id": "441faf0d",
   "metadata": {},
   "outputs": [
    {
     "data": {
      "text/plain": [
       "{2, 3, 'Ammar', 'Faisalabad', 'codanics'}"
      ]
     },
     "execution_count": 108,
     "metadata": {},
     "output_type": "execute_result"
    }
   ],
   "source": [
    "s1.discard(1)  # discard  1 from set s1\n",
    "s1"
   ]
  },
  {
   "cell_type": "code",
   "execution_count": 111,
   "id": "aac1850a",
   "metadata": {},
   "outputs": [
    {
     "data": {
      "text/plain": [
       "{3, 'Ammar', 'Faisalabad', 'codanics'}"
      ]
     },
     "execution_count": 111,
     "metadata": {},
     "output_type": "execute_result"
    }
   ],
   "source": [
    "s1.pop() # eliminate first element of s1\n",
    "s1"
   ]
  },
  {
   "cell_type": "code",
   "execution_count": 115,
   "id": "4054d832",
   "metadata": {},
   "outputs": [
    {
     "data": {
      "text/plain": [
       "set()"
      ]
     },
     "execution_count": 115,
     "metadata": {},
     "output_type": "execute_result"
    }
   ],
   "source": [
    "s1.intersection_update(s2) # find intersection and then update\n",
    "s1"
   ]
  },
  {
   "cell_type": "code",
   "execution_count": null,
   "id": "b93dc4fe",
   "metadata": {},
   "outputs": [],
   "source": []
  }
 ],
 "metadata": {
  "kernelspec": {
   "display_name": "Python 3 (ipykernel)",
   "language": "python",
   "name": "python3"
  },
  "language_info": {
   "codemirror_mode": {
    "name": "ipython",
    "version": 3
   },
   "file_extension": ".py",
   "mimetype": "text/x-python",
   "name": "python",
   "nbconvert_exporter": "python",
   "pygments_lexer": "ipython3",
   "version": "3.9.7"
  }
 },
 "nbformat": 4,
 "nbformat_minor": 5
}

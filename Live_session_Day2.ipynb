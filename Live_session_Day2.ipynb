{
 "cells": [
  {
   "cell_type": "code",
   "execution_count": 1,
   "id": "5ead6eaf",
   "metadata": {},
   "outputs": [],
   "source": [
    "# body mass index (BMI)\n",
    "# input weight \n",
    "# input height\n",
    "# Ask your wiegt\n",
    "# height \n",
    "# calculate BMI\n",
    "# print BMI , my name is --- , and my BMI is ---"
   ]
  },
  {
   "cell_type": "code",
   "execution_count": 17,
   "id": "82917245",
   "metadata": {},
   "outputs": [
    {
     "name": "stdout",
     "output_type": "stream",
     "text": [
      "what is your height: 1.55448\n",
      "what is your weight89.0\n",
      "your BMI is 28.626936338839997\n"
     ]
    }
   ],
   "source": [
    "name = \"khalil\"\n",
    "height = float(input(\"what is your height: \"))\n",
    "weight = float(input(\"what is your weight\"))\n",
    "BMI = weight/(height*2)\n",
    "str(BMI)\n",
    "print(f\"your BMI is {BMI}\")"
   ]
  },
  {
   "cell_type": "code",
   "execution_count": 21,
   "id": "5b19603f",
   "metadata": {},
   "outputs": [
    {
     "data": {
      "text/plain": [
       "float"
      ]
     },
     "execution_count": 21,
     "metadata": {},
     "output_type": "execute_result"
    }
   ],
   "source": [
    "str(BMI)\n",
    "type(BMI)"
   ]
  },
  {
   "cell_type": "code",
   "execution_count": 24,
   "id": "bc5ef5c3",
   "metadata": {},
   "outputs": [
    {
     "name": "stdout",
     "output_type": "stream",
     "text": [
      "my name is  khalil and my BMI is  28.626936338839997\n"
     ]
    }
   ],
   "source": [
    "print(\"my name is \",name, \"and my BMI is \", BMI)"
   ]
  }
 ],
 "metadata": {
  "kernelspec": {
   "display_name": "Python 3 (ipykernel)",
   "language": "python",
   "name": "python3"
  },
  "language_info": {
   "codemirror_mode": {
    "name": "ipython",
    "version": 3
   },
   "file_extension": ".py",
   "mimetype": "text/x-python",
   "name": "python",
   "nbconvert_exporter": "python",
   "pygments_lexer": "ipython3",
   "version": "3.9.7"
  }
 },
 "nbformat": 4,
 "nbformat_minor": 5
}

{
 "cells": [
  {
   "cell_type": "markdown",
   "id": "d057cf51",
   "metadata": {},
   "source": [
    "# Python ka chilla with #baba ammar\n",
    "## student name: khaleel ur rehman\n",
    "### how to use jupyter notebook\n",
    "1- my first program\n",
    "\n",
    "2- my first note book"
   ]
  },
  {
   "cell_type": "code",
   "execution_count": 1,
   "id": "efe366a3",
   "metadata": {},
   "outputs": [
    {
     "name": "stdout",
     "output_type": "stream",
     "text": [
      "5\n",
      "hellow world\n",
      "we are learining data science with python with baba ammar in python ka chilla\n"
     ]
    }
   ],
   "source": [
    "print(2+3)\n",
    "print(\"hellow world\")\n",
    "print(\"we are learining data science with python with baba ammar in python ka chilla\")"
   ]
  },
  {
   "cell_type": "markdown",
   "id": "ff0d3312",
   "metadata": {},
   "source": [
    "###  chapter 2 - operators "
   ]
  },
  {
   "cell_type": "code",
   "execution_count": 2,
   "id": "82d3affa",
   "metadata": {},
   "outputs": [
    {
     "name": "stdout",
     "output_type": "stream",
     "text": [
      "5\n",
      "2\n",
      "3.0\n",
      "6\n",
      "3\n",
      "8\n"
     ]
    }
   ],
   "source": [
    "print(2+3)\n",
    "print(3-1)\n",
    "print(9/3)\n",
    "print(3*2)\n",
    "print(9//3)\n",
    "print(2**3)"
   ]
  },
  {
   "cell_type": "markdown",
   "id": "f626cde5",
   "metadata": {},
   "source": [
    "#### PEMDAS is the order of operators (perenthises, exponents, multiplication, division , addition and then substraction)"
   ]
  },
  {
   "cell_type": "markdown",
   "id": "935c03ec",
   "metadata": {},
   "source": [
    "###  Chpter 3 - Strings"
   ]
  },
  {
   "cell_type": "code",
   "execution_count": 3,
   "id": "9be1901b",
   "metadata": {},
   "outputs": [
    {
     "name": "stdout",
     "output_type": "stream",
     "text": [
      "test for double qoute\n",
      "test for single qoute\n",
      "test for triple qoute\n"
     ]
    }
   ],
   "source": [
    "print(\"test for double qoute\")\n",
    "print('test for single qoute')\n",
    "print('''test for triple qoute''')"
   ]
  },
  {
   "cell_type": "markdown",
   "id": "4e03a534",
   "metadata": {},
   "source": [
    "### chapter 4 - Comments\n",
    "**comments in python are statements which will not execute, written for the awreness of code**\n",
    "\n",
    "** shortcut for comments is ctrl + / **"
   ]
  },
  {
   "cell_type": "code",
   "execution_count": 4,
   "id": "8491c80d",
   "metadata": {},
   "outputs": [
    {
     "name": "stdout",
     "output_type": "stream",
     "text": [
      "kheleel ur rehman\n"
     ]
    }
   ],
   "source": [
    "print(\"kheleel ur rehman\")  # this is my name in print function "
   ]
  },
  {
   "cell_type": "markdown",
   "id": "155dc24b",
   "metadata": {},
   "source": [
    "## chapter no 5 - Variables \n",
    "#### variables are objects containing specific values\n",
    "\n",
    "### rules for declaring variables in python\n",
    "#### in python variable should have letter, numbers and underscore(_)\n",
    "#### rule 2 variable should not start with number\n",
    "#### rule 3 variable should not use spaces\n",
    "#### rule 4 variable should not use keyword (list of keywords availble at google.com)\n",
    "#### python is casesensitive\n",
    "#### varaible should  be short and descriptive"
   ]
  },
  {
   "cell_type": "code",
   "execution_count": 5,
   "id": "1e74b73e",
   "metadata": {},
   "outputs": [
    {
     "name": "stdout",
     "output_type": "stream",
     "text": [
      "('mangoes', 'oranges')\n",
      "15\n",
      "<class 'int'>\n",
      "<class 'tuple'>\n"
     ]
    }
   ],
   "source": [
    "# example of variable\n",
    "fruit_basket = \"mangoes\", \"oranges\"\n",
    "print(fruit_basket)\n",
    "number_of_fruits = 9\n",
    "number_of_fruits = 15\n",
    "print(number_of_fruits)\n",
    "\n",
    "print(type(number_of_fruits))\n",
    "print(type(fruit_basket))\n",
    "\n",
    "# del fruit_basket\n",
    "# print(fruit_basket)"
   ]
  },
  {
   "cell_type": "markdown",
   "id": "ac4a83b0",
   "metadata": {},
   "source": [
    "## cahpter no 6 - Input variables"
   ]
  },
  {
   "cell_type": "code",
   "execution_count": 6,
   "id": "25fe1ecb",
   "metadata": {},
   "outputs": [
    {
     "name": "stdout",
     "output_type": "stream",
     "text": [
      "what is your name: khalil\n",
      "hellow! khalil kya bat ha g \n"
     ]
    }
   ],
   "source": [
    "# print(input(\"enter your fruit\"))\n",
    "\n",
    "name = input(\"what is your name: \")\n",
    "# fruit_basket = input(\"what is your favourite fruit:  \")\n",
    "# print(f\"your favourite fruit is {fruit_basket}\")  # this is called f-string\n",
    "greetings = \"hellow!\"\n",
    "print(greetings, name, \"kya bat ha g \")"
   ]
  },
  {
   "cell_type": "markdown",
   "id": "c1b05b67",
   "metadata": {},
   "source": [
    "## chapter no 7 - conditonal logical operators\n",
    "\n",
    "#### Logical operators are either \"yes\" or \"no\" , \"true\" or \"false\" and \"1\" or \"0\"\n",
    "#### equal to ==\n",
    "#### less than <\n",
    "#### greater than >\n",
    "####  less than equal to <=\n",
    "####  greater than equal to >=\n",
    "####  not equal to !=\n",
    "\n",
    "#### is 4 equal to 4\n",
    "#### print(4!=4)\n",
    "#### print(3<6)\n",
    "#### print(3<=6)\n",
    "#### print(5>=4)\n",
    "\n",
    "#### application of logical operators \n",
    "#### in if else condition or simply in conditional statements we use logical operators\n"
   ]
  },
  {
   "cell_type": "code",
   "execution_count": 7,
   "id": "4289e04e",
   "metadata": {},
   "outputs": [
    {
     "name": "stdout",
     "output_type": "stream",
     "text": [
      "False\n"
     ]
    }
   ],
   "source": [
    "\n",
    "hammad_age = 7 \n",
    "school_age = 18\n",
    "print(hammad_age==school_age)"
   ]
  },
  {
   "cell_type": "markdown",
   "id": "81db4508",
   "metadata": {},
   "source": [
    "## cahpter no 8 - Type conversion"
   ]
  },
  {
   "cell_type": "code",
   "execution_count": 8,
   "id": "fa864c2b",
   "metadata": {},
   "outputs": [
    {
     "name": "stdout",
     "output_type": "stream",
     "text": [
      "enter your age7\n",
      "7 <class 'int'>\n"
     ]
    }
   ],
   "source": [
    "# implicit type conversion\n",
    "# x = x+y \n",
    "\n",
    "# explicit type conversion \n",
    "age = input(\"enter your age\")\n",
    "print(age, type(int(age)))\n"
   ]
  },
  {
   "cell_type": "markdown",
   "id": "51d53f62",
   "metadata": {},
   "source": [
    "## chapter no 9 - if else statments"
   ]
  },
  {
   "cell_type": "code",
   "execution_count": 9,
   "id": "d768be51",
   "metadata": {},
   "outputs": [
    {
     "name": "stdout",
     "output_type": "stream",
     "text": [
      "hammad can join the school\n"
     ]
    }
   ],
   "source": [
    "# required age for school is 5\n",
    "# hammad age = 4\n",
    "# question is can hammad go to school\n",
    "school_age = 4\n",
    "hammad_age = 4\n",
    "if hammad_age == school_age:\n",
    "    print(\"hammad can join the school\")"
   ]
  },
  {
   "cell_type": "markdown",
   "id": "a1f5a652",
   "metadata": {},
   "source": [
    "## chapter no 10 - Functions"
   ]
  },
  {
   "cell_type": "code",
   "execution_count": 10,
   "id": "484652b4",
   "metadata": {},
   "outputs": [
    {
     "name": "stdout",
     "output_type": "stream",
     "text": [
      "40\n"
     ]
    }
   ],
   "source": [
    "# functions\n",
    "# defining a function\n",
    "# def print_codanics():\n",
    "#     print(\"we are learning with ammar\")\n",
    "#     print(\"we are learning with ammar\")\n",
    "#     print(\"we are learning with ammar\")\n",
    "\n",
    "# print_codanics()\n",
    "\n",
    "\n",
    "# def print_codanics():\n",
    "#     text = \" we are learning with ammar at youtube channel\"\n",
    "#     print(text)\n",
    "#     print(text)\n",
    "# print_codanics()\n",
    "\n",
    "# def print_codanics(text):\n",
    "#     print(text)\n",
    "#     print(text)\n",
    "#     print(text)\n",
    "\n",
    "# print_codanics(\"khalil ny char shadia krni ha inshaAllah, 3 dafa likh lo meri ye bat\")\n",
    "\n",
    "# hammad_age = input(\"enter hmmad age: \")\n",
    "# required_age = input(\"enter required age for school: \")\n",
    "# # defining a function with if else and elif statement\n",
    "\n",
    "# def school_calculator():\n",
    "#     if hammad_age == required_age:\n",
    "#         print(\"hmmad can go to school\")\n",
    "#     elif hammad_age > required_age:\n",
    "#         print(\"hammad can go to higher school\")\n",
    "#     else:\n",
    "#         print(\"hammad is still baby\")\n",
    "# school_calculator()\n",
    "\n",
    "# defining a function of future\n",
    "\n",
    "def future_age(age):\n",
    "    new_age = age + 20\n",
    "    # print(new_age)   its working no tention\n",
    "    return new_age\n",
    "\n",
    "print_var = future_age(20)   # another method\n",
    "print(print_var)"
   ]
  },
  {
   "cell_type": "markdown",
   "id": "e87ca48a",
   "metadata": {},
   "source": [
    "## chapter no 11 - loops in python"
   ]
  },
  {
   "cell_type": "code",
   "execution_count": 11,
   "id": "69b17d9e",
   "metadata": {},
   "outputs": [
    {
     "name": "stdout",
     "output_type": "stream",
     "text": [
      "mon\n",
      "tue\n",
      "wed\n",
      "thu\n",
      "sat\n",
      "sun\n"
     ]
    }
   ],
   "source": [
    "# x = 0\n",
    "# while x<=5:\n",
    "#     print(x)\n",
    "#     x = x+1\n",
    "\n",
    "#  for loop\n",
    "# for x in range(5,10):\n",
    "#     print(x)\n",
    "\n",
    "days = [\"mon\", \"tue\", \"wed\", \"thu\", \"fri\", \"sat\", \"sun\"]\n",
    "for d in days:\n",
    "    # print(d) \n",
    "    # if (d==\"fri\"):break\n",
    "    if (d == \"fri\"): continue\n",
    "    print(d)"
   ]
  },
  {
   "cell_type": "markdown",
   "id": "5d7cf8d1",
   "metadata": {},
   "source": [
    "## chapter no 12- import libraries\n"
   ]
  },
  {
   "cell_type": "code",
   "execution_count": 12,
   "id": "edaf3e65",
   "metadata": {},
   "outputs": [
    {
     "name": "stdout",
     "output_type": "stream",
     "text": [
      "mon\n",
      "tue\n",
      "wed\n",
      "thu\n",
      "sat\n",
      "sun\n"
     ]
    }
   ],
   "source": [
    "# x = 0\n",
    "# while x<=5:\n",
    "#     print(x)\n",
    "#     x = x+1\n",
    "\n",
    "#  for loop\n",
    "# for x in range(5,10):\n",
    "#     print(x)\n",
    "\n",
    "days = [\"mon\", \"tue\", \"wed\", \"thu\", \"fri\", \"sat\", \"sun\"]\n",
    "for d in days:\n",
    "    # print(d) \n",
    "    # if (d==\"fri\"):break\n",
    "    if (d == \"fri\"): continue\n",
    "    print(d)"
   ]
  },
  {
   "cell_type": "markdown",
   "id": "0f24f685",
   "metadata": {},
   "source": [
    "## chapter no 13 - trouble shoot"
   ]
  },
  {
   "cell_type": "code",
   "execution_count": 13,
   "id": "a9ac5542",
   "metadata": {},
   "outputs": [
    {
     "name": "stdout",
     "output_type": "stream",
     "text": [
      "hello name\n"
     ]
    }
   ],
   "source": [
    "# print(we are learining python with ammar) this is syntax error\n",
    "\n",
    "# print(25/0)  # run time error , or zero division error \n",
    "\n",
    "name = \"ammar\"  \n",
    "print(\"hello name\")  # symantic error , its mean this is error by ourself not from python"
   ]
  }
 ],
 "metadata": {
  "kernelspec": {
   "display_name": "Python 3 (ipykernel)",
   "language": "python",
   "name": "python3"
  },
  "language_info": {
   "codemirror_mode": {
    "name": "ipython",
    "version": 3
   },
   "file_extension": ".py",
   "mimetype": "text/x-python",
   "name": "python",
   "nbconvert_exporter": "python",
   "pygments_lexer": "ipython3",
   "version": "3.9.7"
  }
 },
 "nbformat": 4,
 "nbformat_minor": 5
}
